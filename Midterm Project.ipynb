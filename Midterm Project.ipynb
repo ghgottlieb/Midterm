{
 "cells": [
  {
   "cell_type": "markdown",
   "metadata": {
    "collapsed": true
   },
   "source": [
    "<H1>Causes of Death in America, Ages 15-19, Based on Gender and Race"
   ]
  },
  {
   "cell_type": "markdown",
   "metadata": {},
   "source": [
    "Genevieve Gottlieb <br/>\n",
    "Big Data and Analytics, Midterm Project <br/>\n",
    "11/8/16"
   ]
  },
  {
   "cell_type": "markdown",
   "metadata": {},
   "source": [
    "In this lab I analyze the data to find out the most common manners of death among femals and males between the ages of fifteen and nineteen. I then look deeper, and put race into the picture and see how that affects the results."
   ]
  },
  {
   "cell_type": "markdown",
   "metadata": {},
   "source": [
    "Out of all females aged 15-19 who die in America, what is the most common manner of death?"
   ]
  },
  {
   "cell_type": "code",
   "execution_count": 14,
   "metadata": {
    "collapsed": false
   },
   "outputs": [
    {
     "name": "stdout",
     "output_type": "stream",
     "text": [
      "[('4', 1), ('5', 25), ('0', 107), ('3', 108), ('2', 150), ('7', 329), ('1', 421)]\n"
     ]
    },
    {
     "data": {
      "text/plain": [
       "<matplotlib.text.Text at 0x1497a82b0>"
      ]
     },
     "execution_count": 14,
     "metadata": {},
     "output_type": "execute_result"
    },
    {
     "data": {
      "image/png": "[encoded data removed]",
      "text/plain": [
       "<matplotlib.figure.Figure at 0x149dde8d0>"
      ]
     },
     "metadata": {},
     "output_type": "display_data"
    }
   ],
   "source": [
    "#All females aged 15-19\n",
    "import operator\n",
    "\n",
    "file = open(\"DeathRecords.csv\", \"r\", errors=\"ignore\")\n",
    "flist =[]\n",
    "for i in file:\n",
    "    flist.append(i)\n",
    "del flist[0]\n",
    "for j in range(len(flist)):\n",
    "    flist[j]=flist[j].split(\",\")\n",
    "\n",
    "tg = []\n",
    "for row in flist:\n",
    "    if row[5] == 'F' and row[8] == '29':\n",
    "        tg.append(row[13])\n",
    "        \n",
    "mflookup = {}\n",
    "for i in range(len(tg)):\n",
    "    if tg[i] not in mflookup:\n",
    "        mflookup[tg[i]] = 1\n",
    "    else:\n",
    "        mflookup[tg[i]]+=1\n",
    "sorted_x = sorted(mflookup.items(), key = operator.itemgetter(1), reverse = False)             \n",
    "print(sorted_x)\n",
    "\n",
    "\n",
    "\n",
    "import numpy as np                                                               \n",
    "import matplotlib.pyplot as plt\n",
    "\n",
    "top=[(4,1),(5,25),(0,107),(3,108),(2,150),(7,329),(1,421)]\n",
    "\n",
    "labels, ys = zip(*top)\n",
    "xs = np.arange(len(labels)) \n",
    "width = 1\n",
    "\n",
    "plt.bar(xs, ys, width, align='center')\n",
    "\n",
    "plt.xticks(xs, labels) #Replace default x-ticks with xs, then replace xs with labels\n",
    "plt.yticks(ys)\n",
    "\n",
    "plt.savefig('netscore.png')\n",
    "plt.title(\"Frequencies of Manners of Death for Females Aged 15-19\")\n",
    "plt.xlabel(\"Manner of Death\")\n",
    "plt.ylabel(\"Frequency\")\n",
    "\n",
    "# 0 = Not specified\n",
    "# 1 = Accident\n",
    "# 2 = Suicide\n",
    "# 3 = Homicide\n",
    "# 4 = Pending investigation\n",
    "# 5 = Could not determine\n",
    "# 6 = Self-Inflicted\n",
    "# 7 = Natural"
   ]
  },
  {
   "cell_type": "markdown",
   "metadata": {},
   "source": [
    "Out of females aged fifteen to nineteen years old in America, the most common manner of death is by accident and the least common manner of death is still pending investigation. The total results found for this category of people: <br/>\n",
    "Pending Investigation: 1 <br/>\n",
    "Could Not Determine: 25 <br/>\n",
    "Not Specified: 107 <br/>\n",
    "Homicide: 108 <br/>\n",
    "Suicide: 150 <br/>\n",
    "Natural: 329 <br/>\n",
    "Accident: 421 <br/>\n",
    "The fact that accident is the leading cause of death here is not surprising to me, and I expect most of the categories of data I analyze to be like this as well. I'm a bit surprised that natural is second, as it seems crazy that that many young people are dying from natural causes."
   ]
  },
  {
   "cell_type": "markdown",
   "metadata": {},
   "source": [
    "Out of white females aged 15-19 who die in America, what is the most common manner of death?"
   ]
  },
  {
   "cell_type": "code",
   "execution_count": 15,
   "metadata": {
    "collapsed": false
   },
   "outputs": [
    {
     "name": "stdout",
     "output_type": "stream",
     "text": [
      "[('4', 1), ('5', 19), ('3', 56), ('0', 78), ('2', 122), ('7', 236), ('1', 333)]\n"
     ]
    },
    {
     "data": {
      "text/plain": [
       "<matplotlib.text.Text at 0x1495dd128>"
      ]
     },
     "execution_count": 15,
     "metadata": {},
     "output_type": "execute_result"
    },
    {
     "data": {
      "image/png": "[encoded data removed]",
      "text/plain": [
       "<matplotlib.figure.Figure at 0x14979c390>"
      ]
     },
     "metadata": {},
     "output_type": "display_data"
    }
   ],
   "source": [
    "#Just white females aged 15-19\n",
    "import operator\n",
    "\n",
    "file = open(\"DeathRecords.csv\", \"r\", errors=\"ignore\")\n",
    "flist =[]\n",
    "for i in file:\n",
    "    flist.append(i)\n",
    "del flist[0]\n",
    "for j in range(len(flist)):\n",
    "    flist[j]=flist[j].split(\",\")\n",
    "\n",
    "tg = []\n",
    "for row in flist:\n",
    "    if row[5] == 'F' and row[8] == '29' and row[23] == '1':\n",
    "        tg.append(row[13])\n",
    "        \n",
    "mflookup = {}\n",
    "for i in range(len(tg)):\n",
    "    if tg[i] not in mflookup:\n",
    "        mflookup[tg[i]] = 1\n",
    "    else:\n",
    "        mflookup[tg[i]]+=1\n",
    "sorted_x = sorted(mflookup.items(), key = operator.itemgetter(1), reverse = False)             \n",
    "print(sorted_x)\n",
    "\n",
    "\n",
    "\n",
    "import numpy as np                                                               \n",
    "import matplotlib.pyplot as plt\n",
    "\n",
    "top=[(4,1),(5,19),(3,56),(0,78),(2,122),(7,236),(1,333)]\n",
    "\n",
    "labels, ys = zip(*top)\n",
    "xs = np.arange(len(labels)) \n",
    "width = 1\n",
    "\n",
    "plt.bar(xs, ys, width, align='center')\n",
    "\n",
    "plt.xticks(xs, labels) #Replace default x-ticks with xs, then replace xs with labels\n",
    "plt.yticks(ys)\n",
    "\n",
    "plt.savefig('netscore.png')\n",
    "plt.title(\"Frequencies of Manners of Death for White Females Aged 15-19\")\n",
    "plt.xlabel(\"Manner of Death\")\n",
    "plt.ylabel(\"Frequency\")\n",
    "\n",
    "# 0 = Not specified\n",
    "# 1 = Accident\n",
    "# 2 = Suicide\n",
    "# 3 = Homicide\n",
    "# 4 = Pending investigation\n",
    "# 5 = Could not determine\n",
    "# 6 = Self-Inflicted\n",
    "# 7 = Natural"
   ]
  },
  {
   "cell_type": "markdown",
   "metadata": {},
   "source": [
    "Out of white females aged fifteen to nineteen years old in America, the most common manner of death is by accident and the least common manner of death is still pending investigation. The total results found for this category of people: <br/>\n",
    "Pending Investigation: 1 <br/>\n",
    "Could Not Determine: 19 <br/>\n",
    "Homicide: 56 <br/>\n",
    "Not Specified: 78 <br/>\n",
    "Suicide: 122 <br/>\n",
    "Natural: 236 <br/>\n",
    "Accident: 333 <br/>\n",
    "The main difference between white females and all females is that homicide goes down below the not specified. This is not surprising to me, although it is definitely something to take into account."
   ]
  },
  {
   "cell_type": "markdown",
   "metadata": {},
   "source": [
    "Out of black females aged 15-19 who die in America, what is the most common manner of death?"
   ]
  },
  {
   "cell_type": "code",
   "execution_count": 16,
   "metadata": {
    "collapsed": false
   },
   "outputs": [
    {
     "name": "stdout",
     "output_type": "stream",
     "text": [
      "[('5', 3), ('0', 11), ('2', 11), ('3', 47), ('1', 66), ('7', 77)]\n"
     ]
    },
    {
     "data": {
      "text/plain": [
       "<matplotlib.text.Text at 0x14a494e10>"
      ]
     },
     "execution_count": 16,
     "metadata": {},
     "output_type": "execute_result"
    },
    {
     "data": {
      "image/png": "[encoded data removed]",
      "text/plain": [
       "<matplotlib.figure.Figure at 0x1495d2208>"
      ]
     },
     "metadata": {},
     "output_type": "display_data"
    }
   ],
   "source": [
    "#Just black females aged 15-19\n",
    "import operator\n",
    "\n",
    "file = open(\"DeathRecords.csv\", \"r\", errors=\"ignore\")\n",
    "flist =[]\n",
    "for i in file:\n",
    "    flist.append(i)\n",
    "del flist[0]\n",
    "for j in range(len(flist)):\n",
    "    flist[j]=flist[j].split(\",\")\n",
    "\n",
    "tg = []\n",
    "for row in flist:\n",
    "    if row[5] == 'F' and row[8] == '29' and row[23] == '2':\n",
    "        tg.append(row[13])\n",
    "        \n",
    "mflookup = {}\n",
    "for i in range(len(tg)):\n",
    "    if tg[i] not in mflookup:\n",
    "        mflookup[tg[i]] = 1\n",
    "    else:\n",
    "        mflookup[tg[i]]+=1\n",
    "sorted_x = sorted(mflookup.items(), key = operator.itemgetter(1), reverse = False)             \n",
    "print(sorted_x)\n",
    "\n",
    "\n",
    "\n",
    "import numpy as np                                                               \n",
    "import matplotlib.pyplot as plt\n",
    "\n",
    "top=[(4,0),(5,3),(2,11),(0,11),(3,47),(1,66),(7,77)]\n",
    "\n",
    "labels, ys = zip(*top)\n",
    "xs = np.arange(len(labels)) \n",
    "width = 1\n",
    "\n",
    "plt.bar(xs, ys, width, align='center')\n",
    "\n",
    "plt.xticks(xs, labels) #Replace default x-ticks with xs, then replace xs with labels\n",
    "plt.yticks(ys)\n",
    "\n",
    "plt.savefig('netscore.png')\n",
    "plt.title(\"Frequencies of Manners of Death for Black Females Aged 15-19\")\n",
    "plt.xlabel(\"Manner of Death\")\n",
    "plt.ylabel(\"Frequency\")\n",
    "\n",
    "# 0 = Not specified\n",
    "# 1 = Accident\n",
    "# 2 = Suicide\n",
    "# 3 = Homicide\n",
    "# 4 = Pending investigation\n",
    "# 5 = Could not determine\n",
    "# 6 = Self-Inflicted\n",
    "# 7 = Natural"
   ]
  },
  {
   "cell_type": "markdown",
   "metadata": {},
   "source": [
    "Out of black females aged fifteen to nineteen years old in America, the most common manner of death is natural and the least common manner of death is still pending investigation. The total results found for this category of people: <br/>\n",
    "Pending Investigation: ? <br/>\n",
    "Could Not Determine: 3 <br/>\n",
    "Suicide: 11 <br/>\n",
    "Not Specified: 11 <br/>\n",
    "Homicide: 47 <br/>\n",
    "Accident: 66 <br/>\n",
    "Natural: 77 <br/>\n",
    "For black females, compared to all females, natural cause of death switches with accidents to the leading cause, and homicide jumps to third. I was surprised that black females die more of natural causes than accidents, especially when most in the other categories have accidents as the leading cause."
   ]
  },
  {
   "cell_type": "markdown",
   "metadata": {},
   "source": [
    "Out of all males aged 15-19 who die in America, what is the most common manner of death?"
   ]
  },
  {
   "cell_type": "code",
   "execution_count": 17,
   "metadata": {
    "collapsed": false
   },
   "outputs": [
    {
     "name": "stdout",
     "output_type": "stream",
     "text": [
      "[('4', 18), ('5', 37), ('0', 144), ('7', 430), ('2', 503), ('3', 618), ('1', 1053)]\n"
     ]
    },
    {
     "data": {
      "text/plain": [
       "<matplotlib.text.Text at 0x1494cd908>"
      ]
     },
     "execution_count": 17,
     "metadata": {},
     "output_type": "execute_result"
    },
    {
     "data": {
      "image/png": "[encoded data removed]",
      "text/plain": [
       "<matplotlib.figure.Figure at 0x14a48aef0>"
      ]
     },
     "metadata": {},
     "output_type": "display_data"
    }
   ],
   "source": [
    "#All males aged 15-19\n",
    "import operator\n",
    "\n",
    "file = open(\"DeathRecords.csv\", \"r\", errors=\"ignore\")\n",
    "flist =[]\n",
    "for i in file:\n",
    "    flist.append(i)\n",
    "del flist[0]\n",
    "for j in range(len(flist)):\n",
    "    flist[j]=flist[j].split(\",\")\n",
    "\n",
    "tg = []\n",
    "for row in flist:\n",
    "    if row[5] == 'M' and row[8] == '29':\n",
    "        tg.append(row[13])\n",
    "        \n",
    "mflookup = {}\n",
    "for i in range(len(tg)):\n",
    "    if tg[i] not in mflookup:\n",
    "        mflookup[tg[i]] = 1\n",
    "    else:\n",
    "        mflookup[tg[i]]+=1\n",
    "sorted_x = sorted(mflookup.items(), key = operator.itemgetter(1), reverse = False)             \n",
    "print(sorted_x)\n",
    "\n",
    "\n",
    "\n",
    "import numpy as np                                                               \n",
    "import matplotlib.pyplot as plt\n",
    "\n",
    "top=[(4,18),(5,37),(0,144),(7,430),(2,503),(3,618),(1,1053)]\n",
    "\n",
    "labels, ys = zip(*top)\n",
    "xs = np.arange(len(labels)) \n",
    "width = 1\n",
    "\n",
    "plt.bar(xs, ys, width, align='center')\n",
    "\n",
    "plt.xticks(xs, labels) #Replace default x-ticks with xs, then replace xs with labels\n",
    "plt.yticks(ys)\n",
    "\n",
    "plt.savefig('netscore.png')\n",
    "plt.title(\"Frequencies of Manners of Death for Males Aged 15-19\")\n",
    "plt.xlabel(\"Manner of Death\")\n",
    "plt.ylabel(\"Frequency\")\n",
    "\n",
    "# 0 = Not specified\n",
    "# 1 = Accident\n",
    "# 2 = Suicide\n",
    "# 3 = Homicide\n",
    "# 4 = Pending investigation\n",
    "# 5 = Could not determine\n",
    "# 6 = Self-Inflicted\n",
    "# 7 = Natural"
   ]
  },
  {
   "cell_type": "markdown",
   "metadata": {},
   "source": [
    "Out of males aged fifteen to nineteen years old in America, the most common manner of death is by accident and the least common manner of death is still pending investigation. The total results found for this category of people: <br/>\n",
    "Pending Investigation: 18 <br/>\n",
    "Could Not Determine: 37 <br/>\n",
    "Not Specified: 144 <br/>\n",
    "Natural: 430 <br/>\n",
    "Suicide: 503 <br/>\n",
    "Homicide: 618 <br/>\n",
    "Accident: 1053 <br/>\n",
    "Compared to females, for males homicide takes a leap to the second leading cause of death. Suicide is right behind that. I guess I thought this might happen, but to see that it is true is surprising. To think more die due to homicides and suicides than natural causes is sad."
   ]
  },
  {
   "cell_type": "markdown",
   "metadata": {},
   "source": [
    "Out of white males aged 15-19 who die in America, what is the most common manner of death?"
   ]
  },
  {
   "cell_type": "code",
   "execution_count": 18,
   "metadata": {
    "collapsed": false
   },
   "outputs": [
    {
     "name": "stdout",
     "output_type": "stream",
     "text": [
      "[('4', 6), ('5', 34), ('0', 114), ('3', 216), ('7', 297), ('2', 422), ('1', 854)]\n"
     ]
    },
    {
     "data": {
      "text/plain": [
       "<matplotlib.text.Text at 0x149543898>"
      ]
     },
     "execution_count": 18,
     "metadata": {},
     "output_type": "execute_result"
    },
    {
     "data": {
      "image/png": "[encoded data removed]",
      "text/plain": [
       "<matplotlib.figure.Figure at 0x1494c3a20>"
      ]
     },
     "metadata": {},
     "output_type": "display_data"
    }
   ],
   "source": [
    "#Just white males aged 15-19\n",
    "import operator\n",
    "\n",
    "file = open(\"DeathRecords.csv\", \"r\", errors=\"ignore\")\n",
    "flist =[]\n",
    "for i in file:\n",
    "    flist.append(i)\n",
    "del flist[0]\n",
    "for j in range(len(flist)):\n",
    "    flist[j]=flist[j].split(\",\")\n",
    "\n",
    "tg = []\n",
    "for row in flist:\n",
    "    if row[5] == 'M' and row[8] == '29' and row[23] == '1':\n",
    "        tg.append(row[13])\n",
    "        \n",
    "mflookup = {}\n",
    "for i in range(len(tg)):\n",
    "    if tg[i] not in mflookup:\n",
    "        mflookup[tg[i]] = 1\n",
    "    else:\n",
    "        mflookup[tg[i]]+=1\n",
    "sorted_x = sorted(mflookup.items(), key = operator.itemgetter(1), reverse = False)             \n",
    "print(sorted_x)\n",
    "\n",
    "\n",
    "\n",
    "\n",
    "import numpy as np                                                               \n",
    "import matplotlib.pyplot as plt\n",
    "\n",
    "top=[(4,6),(5,34),(0,114),(3,216),(7,297),(2,422),(1,854)]\n",
    "\n",
    "labels, ys = zip(*top)\n",
    "xs = np.arange(len(labels)) \n",
    "width = 1\n",
    "\n",
    "plt.bar(xs, ys, width, align='center')\n",
    "\n",
    "plt.xticks(xs, labels) #Replace default x-ticks with xs, then replace xs with labels\n",
    "plt.yticks(ys)\n",
    "\n",
    "plt.savefig('netscore.png')\n",
    "plt.title(\"Frequencies of Manners of Death for White Males Aged 15-19\")\n",
    "plt.xlabel(\"Manner of Death\")\n",
    "plt.ylabel(\"Frequency\")\n",
    "\n",
    "# 0 = Not specified\n",
    "# 1 = Accident\n",
    "# 2 = Suicide\n",
    "# 3 = Homicide\n",
    "# 4 = Pending investigation\n",
    "# 5 = Could not determine\n",
    "# 6 = Self-Inflicted\n",
    "# 7 = Natural"
   ]
  },
  {
   "cell_type": "markdown",
   "metadata": {},
   "source": [
    "Out of white males aged fifteen to nineteen years old in America, the most common manner of death is by accident and the least common manner of death is still pending investigation. The total results found for this category of people: <br/>\n",
    "Pending Investigation: 6 <br/>\n",
    "Could Not Determine: 34 <br/>\n",
    "Not Specified: 114 <br/>\n",
    "Homicide: 216 <br/>\n",
    "Natural: 297 <br/>\n",
    "Suicide: 422 <br/>\n",
    "Accident: 854 <br/>\n",
    "For specifically white males, compared to all males, homicide drops down and suicide becomes the second leading cause of death. This was very surprising to me, and very saddening."
   ]
  },
  {
   "cell_type": "markdown",
   "metadata": {},
   "source": [
    "Out of black males aged 15-19 who die in America, what is the most common manner of death?"
   ]
  },
  {
   "cell_type": "code",
   "execution_count": 19,
   "metadata": {
    "collapsed": false
   },
   "outputs": [
    {
     "name": "stdout",
     "output_type": "stream",
     "text": [
      "[('5', 3), ('4', 10), ('0', 13), ('2', 44), ('7', 119), ('1', 155), ('3', 385)]\n"
     ]
    },
    {
     "data": {
      "text/plain": [
       "<matplotlib.text.Text at 0x149402588>"
      ]
     },
     "execution_count": 19,
     "metadata": {},
     "output_type": "execute_result"
    },
    {
     "data": {
      "image/png": "[encoded data removed]",
      "text/plain": [
       "<matplotlib.figure.Figure at 0x1494799b0>"
      ]
     },
     "metadata": {},
     "output_type": "display_data"
    }
   ],
   "source": [
    "#Just black males aged 15-19\n",
    "import operator\n",
    "\n",
    "file = open(\"DeathRecords.csv\", \"r\", errors=\"ignore\")\n",
    "flist =[]\n",
    "for i in file:\n",
    "    flist.append(i)\n",
    "del flist[0]\n",
    "for j in range(len(flist)):\n",
    "    flist[j]=flist[j].split(\",\")\n",
    "\n",
    "tg = []\n",
    "for row in flist:\n",
    "    if row[5] == 'M' and row[8] == '29' and row[23] == '2':\n",
    "        tg.append(row[13])\n",
    "        \n",
    "mflookup = {}\n",
    "for i in range(len(tg)):\n",
    "    if tg[i] not in mflookup:\n",
    "        mflookup[tg[i]] = 1\n",
    "    else:\n",
    "        mflookup[tg[i]]+=1\n",
    "sorted_x = sorted(mflookup.items(), key = operator.itemgetter(1), reverse = False)             \n",
    "print(sorted_x)\n",
    "\n",
    "\n",
    "\n",
    "\n",
    "import numpy as np                                                               \n",
    "import matplotlib.pyplot as plt\n",
    "\n",
    "top=[(5,3),(4,10),(0,13),(2,44),(7,119),(1,155),(3,385)]\n",
    "\n",
    "labels, ys = zip(*top)\n",
    "xs = np.arange(len(labels)) \n",
    "width = 1\n",
    "\n",
    "plt.bar(xs, ys, width, align='center')\n",
    "\n",
    "plt.xticks(xs, labels) #Replace default x-ticks with xs, then replace xs with labels\n",
    "plt.yticks(ys)\n",
    "\n",
    "plt.savefig('netscore.png')\n",
    "plt.title(\"Frequencies of Manners of Death for Black Males Aged 15-19\")\n",
    "plt.xlabel(\"Manner of Death\")\n",
    "plt.ylabel(\"Frequency\")\n",
    "\n",
    "# 0 = Not specified\n",
    "# 1 = Accident\n",
    "# 2 = Suicide\n",
    "# 3 = Homicide\n",
    "# 4 = Pending investigation\n",
    "# 5 = Could not determine\n",
    "# 6 = Self-Inflicted\n",
    "# 7 = Natural"
   ]
  },
  {
   "cell_type": "markdown",
   "metadata": {},
   "source": [
    "Out of black males aged fifteen to nineteen years old in America, the most common manner of death is homicide and the least common manner of death is could not determine. The total results found for this category of people: <br/>\n",
    "Could Not Determine: 3 <br/>\n",
    "Pending Investigation: 10 <br/>\n",
    "Not Specified: 13 <br/>\n",
    "Suicide: 44 <br/>\n",
    "Natural: 119 <br/>\n",
    "Accident: 155 <br/>\n",
    "Homicide: 385 <br/>\n",
    "For specifically black males, compared to all males, homicide becomes the leading cause of death. This is crazy, and totally disrupts the pattern seen among the previous categories. Suicide drops, which is good. The fact that black males are more likely to die from homicide than accidents is so sad!"
   ]
  },
  {
   "cell_type": "markdown",
   "metadata": {
    "collapsed": true
   },
   "source": [
    "In conclusion, I was pretty surprised with the overall results. I was initially expecting accidents to lead all categories, then unknown, natural, suicide, homicide. The rate the order varied was expected, but still surprising in the moment. The most surprising part of this was that for black males from ages 15-19 the leading cause of death is homicide. That is so disheartening. Also for white males the fact that suicide is the second leading cause of death is so terrible. Overall this was interesting data to use, and I learned a lot from working with it."
   ]
  }
 ],
 "metadata": {
  "anaconda-cloud": {},
  "kernelspec": {
   "display_name": "Python [Root]",
   "language": "python",
   "name": "Python [Root]"
  },
  "language_info": {
   "codemirror_mode": {
    "name": "ipython",
    "version": 3
   },
   "file_extension": ".py",
   "mimetype": "text/x-python",
   "name": "python",
   "nbconvert_exporter": "python",
   "pygments_lexer": "ipython3",
   "version": "3.5.2"
  }
 },
 "nbformat": 4,
 "nbformat_minor": 0
}
